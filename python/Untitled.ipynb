{
 "cells": [
  {
   "cell_type": "code",
   "execution_count": 1,
   "id": "b8cab75f-1ab2-49e3-ada7-b05c77462138",
   "metadata": {},
   "outputs": [],
   "source": [
    "import firn_mol  # this will contain FirnSetup5.m and FCM9b.m\n",
    "\n",
    "p = firn_mol.setup()\n"
   ]
  },
  {
   "cell_type": "code",
   "execution_count": 2,
   "id": "742019a3-f0b5-4db3-b263-3d30aa81dade",
   "metadata": {},
   "outputs": [
    {
     "data": {
      "text/plain": [
       "dict_keys(['n', 'beta'])"
      ]
     },
     "execution_count": 2,
     "metadata": {},
     "output_type": "execute_result"
    }
   ],
   "source": [
    "p.keys()"
   ]
  },
  {
   "cell_type": "code",
   "execution_count": 3,
   "id": "4eb1b24d-b0b3-4370-b8fa-357978f75236",
   "metadata": {},
   "outputs": [
    {
     "data": {
      "text/plain": [
       "float"
      ]
     },
     "execution_count": 3,
     "metadata": {},
     "output_type": "execute_result"
    }
   ],
   "source": [
    "n = p['n']\n",
    "type(n)"
   ]
  },
  {
   "cell_type": "code",
   "execution_count": 4,
   "id": "23cc273f-0b08-4f83-ad20-d40b7d1e6b65",
   "metadata": {},
   "outputs": [],
   "source": [
    "beta = p['beta']"
   ]
  },
  {
   "cell_type": "code",
   "execution_count": 5,
   "id": "2d007884-779d-4a6b-8852-eccc2cbd22e4",
   "metadata": {},
   "outputs": [
    {
     "data": {
      "text/plain": [
       "array([0., 1., 2., 3., 4., 5., 6., 7., 8., 9.])"
      ]
     },
     "execution_count": 5,
     "metadata": {},
     "output_type": "execute_result"
    }
   ],
   "source": [
    "n*beta"
   ]
  },
  {
   "cell_type": "code",
   "execution_count": 6,
   "id": "309838d9-ae47-4b89-98b9-96d8447d0c54",
   "metadata": {},
   "outputs": [
    {
     "data": {
      "text/plain": [
       "numpy.ndarray"
      ]
     },
     "execution_count": 6,
     "metadata": {},
     "output_type": "execute_result"
    }
   ],
   "source": [
    "type(beta)"
   ]
  },
  {
   "cell_type": "code",
   "execution_count": 9,
   "id": "8f7f59e5-b93d-43e6-a26d-42193a875358",
   "metadata": {},
   "outputs": [
    {
     "data": {
      "text/plain": [
       "array([0., 1., 2., 3., 4., 5., 6., 7., 8., 9.])"
      ]
     },
     "execution_count": 9,
     "metadata": {},
     "output_type": "execute_result"
    }
   ],
   "source": [
    "firn_mol.run(p)"
   ]
  },
  {
   "cell_type": "code",
   "execution_count": null,
   "id": "9d15fcc5-da05-4496-b00a-a4b1670eb90d",
   "metadata": {},
   "outputs": [],
   "source": []
  }
 ],
 "metadata": {
  "kernelspec": {
   "display_name": "Python 3",
   "language": "python",
   "name": "python3"
  },
  "language_info": {
   "codemirror_mode": {
    "name": "ipython",
    "version": 3
   },
   "file_extension": ".py",
   "mimetype": "text/x-python",
   "name": "python",
   "nbconvert_exporter": "python",
   "pygments_lexer": "ipython3",
   "version": "3.9.7"
  }
 },
 "nbformat": 4,
 "nbformat_minor": 5
}

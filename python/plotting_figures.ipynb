{
 "cells": [
  {
   "cell_type": "code",
   "execution_count": 1,
   "id": "b8cab75f-1ab2-49e3-ada7-b05c77462138",
   "metadata": {},
   "outputs": [
    {
     "ename": "SyntaxError",
     "evalue": "invalid syntax (firn_mol.py, line 19)",
     "output_type": "error",
     "traceback": [
      "Traceback \u001b[0;36m(most recent call last)\u001b[0m:\n",
      "  File \u001b[1;32m\"/Users/jkingslake/opt/anaconda3/envs/book-env2/lib/python3.9/site-packages/IPython/core/interactiveshell.py\"\u001b[0m, line \u001b[1;32m3444\u001b[0m, in \u001b[1;35mrun_code\u001b[0m\n    exec(code_obj, self.user_global_ns, self.user_ns)\n",
      "\u001b[0;36m  File \u001b[0;32m\"/var/folders/gc/hfy654314d3gzj39h27fdx0r0000gn/T/ipykernel_7979/1203015148.py\"\u001b[0;36m, line \u001b[0;32m1\u001b[0;36m, in \u001b[0;35m<module>\u001b[0;36m\u001b[0m\n\u001b[0;31m    import firn_mol  # this will contain FirnSetup5.m and FCM9b.m\u001b[0m\n",
      "\u001b[0;36m  File \u001b[0;32m\"/Users/jkingslake/Documents/science/firn_accumulation/firn_accumulation_model/python/firn_mol.py\"\u001b[0;36m, line \u001b[0;32m19\u001b[0m\n\u001b[0;31m    r_s_dim = 2.5000e(-07), \\   # grain size at the surface (0.5 mm)^2, \\\u001b[0m\n\u001b[0m                    ^\u001b[0m\n\u001b[0;31mSyntaxError\u001b[0m\u001b[0;31m:\u001b[0m invalid syntax\n"
     ]
    }
   ],
   "source": [
    "import firn_mol  # this will contain FirnSetup5.m and FCM9b.m\n",
    "\n",
    "p = firn_mol.setup()\n"
   ]
  },
  {
   "cell_type": "code",
   "execution_count": 2,
   "id": "742019a3-f0b5-4db3-b263-3d30aa81dade",
   "metadata": {},
   "outputs": [
    {
     "data": {
      "text/plain": [
       "dict_keys(['n', 'beta'])"
      ]
     },
     "execution_count": 2,
     "metadata": {},
     "output_type": "execute_result"
    }
   ],
   "source": [
    "p.keys()"
   ]
  },
  {
   "cell_type": "code",
   "execution_count": 3,
   "id": "4eb1b24d-b0b3-4370-b8fa-357978f75236",
   "metadata": {},
   "outputs": [
    {
     "data": {
      "text/plain": [
       "float"
      ]
     },
     "execution_count": 3,
     "metadata": {},
     "output_type": "execute_result"
    }
   ],
   "source": [
    "n = p['n']\n",
    "type(n)"
   ]
  },
  {
   "cell_type": "code",
   "execution_count": 4,
   "id": "23cc273f-0b08-4f83-ad20-d40b7d1e6b65",
   "metadata": {},
   "outputs": [],
   "source": [
    "beta = p['beta']"
   ]
  },
  {
   "cell_type": "code",
   "execution_count": 5,
   "id": "2d007884-779d-4a6b-8852-eccc2cbd22e4",
   "metadata": {},
   "outputs": [
    {
     "data": {
      "text/plain": [
       "array([0., 1., 2., 3., 4., 5., 6., 7., 8., 9.])"
      ]
     },
     "execution_count": 5,
     "metadata": {},
     "output_type": "execute_result"
    }
   ],
   "source": [
    "n*beta"
   ]
  },
  {
   "cell_type": "code",
   "execution_count": 6,
   "id": "309838d9-ae47-4b89-98b9-96d8447d0c54",
   "metadata": {},
   "outputs": [
    {
     "data": {
      "text/plain": [
       "numpy.ndarray"
      ]
     },
     "execution_count": 6,
     "metadata": {},
     "output_type": "execute_result"
    }
   ],
   "source": [
    "type(beta)"
   ]
  },
  {
   "cell_type": "code",
   "execution_count": 9,
   "id": "8f7f59e5-b93d-43e6-a26d-42193a875358",
   "metadata": {},
   "outputs": [
    {
     "data": {
      "text/plain": [
       "array([0., 1., 2., 3., 4., 5., 6., 7., 8., 9.])"
      ]
     },
     "execution_count": 9,
     "metadata": {},
     "output_type": "execute_result"
    }
   ],
   "source": [
    "firn_mol.run(p)"
   ]
  },
  {
   "cell_type": "code",
   "execution_count": 11,
   "id": "9d15fcc5-da05-4496-b00a-a4b1670eb90d",
   "metadata": {},
   "outputs": [
    {
     "ename": "NameError",
     "evalue": "name 'rand_' is not defined",
     "output_type": "error",
     "traceback": [
      "\u001b[0;31m---------------------------------------------------------------------------\u001b[0m",
      "\u001b[0;31mNameError\u001b[0m                                 Traceback (most recent call last)",
      "\u001b[0;32m/var/folders/gc/hfy654314d3gzj39h27fdx0r0000gn/T/ipykernel_7474/2873582369.py\u001b[0m in \u001b[0;36m<module>\u001b[0;34m\u001b[0m\n\u001b[0;32m----> 1\u001b[0;31m \u001b[0mrand_\u001b[0m\u001b[0;34m(\u001b[0m\u001b[0;34m)\u001b[0m\u001b[0;34m\u001b[0m\u001b[0;34m\u001b[0m\u001b[0m\n\u001b[0m",
      "\u001b[0;31mNameError\u001b[0m: name 'rand_' is not defined"
     ]
    }
   ],
   "source": [
    "rand_()"
   ]
  },
  {
   "cell_type": "code",
   "execution_count": null,
   "id": "081ba38b-49dd-4065-a461-b037f71fdb67",
   "metadata": {},
   "outputs": [],
   "source": []
  }
 ],
 "metadata": {
  "kernelspec": {
   "display_name": "Python 3",
   "language": "python",
   "name": "python3"
  },
  "language_info": {
   "codemirror_mode": {
    "name": "ipython",
    "version": 3
   },
   "file_extension": ".py",
   "mimetype": "text/x-python",
   "name": "python",
   "nbconvert_exporter": "python",
   "pygments_lexer": "ipython3",
   "version": "3.9.7"
  }
 },
 "nbformat": 4,
 "nbformat_minor": 5
}

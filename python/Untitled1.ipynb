{
 "cells": [
  {
   "cell_type": "code",
   "execution_count": 75,
   "id": "a414cf99-6bc2-42b1-9467-db43d865780e",
   "metadata": {},
   "outputs": [],
   "source": [
    "class fs:   # short for firn simulation\n",
    "    \"\"\"The Doc String for this class\"\"\"\n",
    "    \n",
    "    ## Constants used throughout\n",
    "    g = 9.81                           # acceleration due to gravity [m s^-2]\n",
    "    spy = 24*365*3600                  # seconds per year\n",
    "    R = 8.31                           # ideal gas constant\n",
    "    rho_i = 918                        # ice density [kg / m^3]\n",
    "\n",
    "\n",
    "    \n",
    "    def __init__(self,sim_number):\n",
    "        import numpy as np\n",
    "        self.sim_number = sim_number\n",
    "        self.p = np.array([1, 2, 3])\n",
    "    \n",
    "    \n",
    "    def setupT(self):\n",
    "        self.T = 10\n",
    "        \n",
    "    def run(self):\n",
    "        #print(self.p)\n",
    "        p_inside_run = self.p + self.g    # example line that uses \n",
    "        return p_inside_run"
   ]
  },
  {
   "cell_type": "code",
   "execution_count": 76,
   "id": "fed1646d-02c7-4c91-a9a6-e60def783c41",
   "metadata": {},
   "outputs": [
    {
     "data": {
      "text/plain": [
       "__main__.fs"
      ]
     },
     "execution_count": 76,
     "metadata": {},
     "output_type": "execute_result"
    }
   ],
   "source": [
    "fs"
   ]
  },
  {
   "cell_type": "code",
   "execution_count": 78,
   "id": "f8130378-51e5-48a0-b7e5-2af91c62af27",
   "metadata": {},
   "outputs": [],
   "source": [
    "s1 = fs(1)\n"
   ]
  },
  {
   "cell_type": "code",
   "execution_count": 79,
   "id": "687b0e2b-fd45-4866-b79b-6fc38e44b7da",
   "metadata": {},
   "outputs": [
    {
     "ename": "AttributeError",
     "evalue": "'fs' object has no attribute 'sim_number'",
     "output_type": "error",
     "traceback": [
      "\u001b[0;31m---------------------------------------------------------------------------\u001b[0m",
      "\u001b[0;31mAttributeError\u001b[0m                            Traceback (most recent call last)",
      "\u001b[0;32m/var/folders/gc/hfy654314d3gzj39h27fdx0r0000gn/T/ipykernel_9061/3912016691.py\u001b[0m in \u001b[0;36m<module>\u001b[0;34m\u001b[0m\n\u001b[0;32m----> 1\u001b[0;31m \u001b[0ms1\u001b[0m\u001b[0;34m.\u001b[0m\u001b[0msim_number\u001b[0m\u001b[0;34m\u001b[0m\u001b[0;34m\u001b[0m\u001b[0m\n\u001b[0m",
      "\u001b[0;31mAttributeError\u001b[0m: 'fs' object has no attribute 'sim_number'"
     ]
    }
   ],
   "source": [
    "s1."
   ]
  },
  {
   "cell_type": "code",
   "execution_count": 73,
   "id": "ba25309c-15bf-4821-a0aa-2cd799f12c0c",
   "metadata": {},
   "outputs": [],
   "source": [
    "results = s1.run()"
   ]
  },
  {
   "cell_type": "code",
   "execution_count": 74,
   "id": "53460889-68e2-42c8-8b9b-500ae416d891",
   "metadata": {},
   "outputs": [
    {
     "data": {
      "text/plain": [
       "array([10.81, 11.81, 12.81])"
      ]
     },
     "execution_count": 74,
     "metadata": {},
     "output_type": "execute_result"
    }
   ],
   "source": [
    "results"
   ]
  },
  {
   "cell_type": "code",
   "execution_count": null,
   "id": "78852182-c489-4d87-804c-07ad15ef5181",
   "metadata": {},
   "outputs": [],
   "source": [
    "# s1.phi_s"
   ]
  },
  {
   "cell_type": "code",
   "execution_count": 18,
   "id": "cd6e6885-c4ba-4a39-8c53-f9fdf46cb3a6",
   "metadata": {},
   "outputs": [],
   "source": [
    "fs.phi_s = 0.4\n"
   ]
  },
  {
   "cell_type": "code",
   "execution_count": 20,
   "id": "0ff1e994-ea5d-4e85-93e7-53bc63eb4e02",
   "metadata": {},
   "outputs": [
    {
     "data": {
      "text/plain": [
       "0.4"
      ]
     },
     "execution_count": 20,
     "metadata": {},
     "output_type": "execute_result"
    }
   ],
   "source": [
    "fs.phi_s"
   ]
  },
  {
   "cell_type": "code",
   "execution_count": 23,
   "id": "4e28f792-1f71-44c9-849f-bfd347ffe522",
   "metadata": {},
   "outputs": [
    {
     "ename": "TypeError",
     "evalue": "setupT() missing 1 required positional argument: 'self'",
     "output_type": "error",
     "traceback": [
      "\u001b[0;31m---------------------------------------------------------------------------\u001b[0m",
      "\u001b[0;31mTypeError\u001b[0m                                 Traceback (most recent call last)",
      "\u001b[0;32m/var/folders/gc/hfy654314d3gzj39h27fdx0r0000gn/T/ipykernel_9061/3629593924.py\u001b[0m in \u001b[0;36m<module>\u001b[0;34m\u001b[0m\n\u001b[0;32m----> 1\u001b[0;31m \u001b[0mfs\u001b[0m\u001b[0;34m.\u001b[0m\u001b[0msetupT\u001b[0m\u001b[0;34m(\u001b[0m\u001b[0;34m)\u001b[0m\u001b[0;34m\u001b[0m\u001b[0;34m\u001b[0m\u001b[0m\n\u001b[0m",
      "\u001b[0;31mTypeError\u001b[0m: setupT() missing 1 required positional argument: 'self'"
     ]
    }
   ],
   "source": [
    "fs.setupT()"
   ]
  },
  {
   "cell_type": "code",
   "execution_count": null,
   "id": "500e411a-4b53-409e-b845-69e07fa59e26",
   "metadata": {},
   "outputs": [],
   "source": []
  }
 ],
 "metadata": {
  "kernelspec": {
   "display_name": "Python 3",
   "language": "python",
   "name": "python3"
  },
  "language_info": {
   "codemirror_mode": {
    "name": "ipython",
    "version": 3
   },
   "file_extension": ".py",
   "mimetype": "text/x-python",
   "name": "python",
   "nbconvert_exporter": "python",
   "pygments_lexer": "ipython3",
   "version": "3.9.7"
  }
 },
 "nbformat": 4,
 "nbformat_minor": 5
}
